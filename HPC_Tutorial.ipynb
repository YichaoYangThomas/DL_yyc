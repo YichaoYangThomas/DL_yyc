{
  "cells": [
    {
      "cell_type": "markdown",
      "metadata": {
        "id": "GVW-DofG4mT9"
      },
      "source": [
        "# HPC Tutorial\n",
        "This notebook provides an overview of the High-Performance Computing (HPC) system setup at NYU, focusing on accessing resources, running jobs, and managing environments.\n"
      ]
    },
    {
      "cell_type": "markdown",
      "metadata": {
        "id": "F075jifJ4mT_"
      },
      "source": [
        "## Running Interactive Jobs\n",
        "1. SSH into Greene’s login node. See [this](https://sites.google.com/nyu.edu/nyu-hpc/accessing-hpc), [this](https://sites.google.com/nyu.edu/nyu-hpc/training-support/general-hpc-topics/tunneling-and-x11-forwarding).\n",
        "2. `ssh burst`\n",
        "2. Request a job to access CPU or GPU resources. (see example `srun ...` commands below)\n",
        "3. Execute commands inside the assigned node as needed.\n"
      ]
    },
    {
      "cell_type": "markdown",
      "metadata": {
        "id": "byvrEzzR4mT-"
      },
      "source": [
        "### Available Partitions\n",
        "- **Account**: `ds_ga_1008_002-2025sp`\n",
        "- **Partitions**: interactive, n2c48m24, n1s8-v100-1, n1s16-v100-2, g2-standard-12, g2-standard-24, c12m85-a100-1, c24m170-a100-2\n"
      ]
    },
    {
      "cell_type": "markdown",
      "metadata": {
        "id": "HRnOI8HE4mT-"
      },
      "source": [
        "## Running Jobs\n",
        "### CPU-only Interactive Job for 4 Hours"
      ]
    },
    {
      "cell_type": "code",
      "metadata": {
        "id": "OcQgIkOG4mT-"
      },
      "source": [
        "srun --account=ds_ga_1008_002-2025sp --partition=interactive --time=04:00:00 --pty /bin/bash"
      ],
      "execution_count": null,
      "outputs": []
    },
    {
      "cell_type": "markdown",
      "metadata": {
        "id": "C0FXfw3m4mT_"
      },
      "source": [
        "### GPU Jobs\n",
        "- **1 V100 GPU for 4 hours**"
      ]
    },
    {
      "cell_type": "code",
      "metadata": {
        "id": "d37u8HN14mT_"
      },
      "source": [
        "srun --account=ds_ga_1008_002-2025sp --partition=n1s8-v100-1 --gres=gpu:v100:1 --time=04:00:00 --pty /bin/bash"
      ],
      "execution_count": null,
      "outputs": []
    },
    {
      "cell_type": "markdown",
      "metadata": {
        "id": "LdvmjRvF4mT_"
      },
      "source": [
        "- **1 A100 GPU for 4 hours**"
      ]
    },
    {
      "cell_type": "code",
      "metadata": {
        "id": "ndkNPzrP4mT_"
      },
      "source": [
        "srun --account=ds_ga_1008_002-2025sp --partition=c12m85-a100-1 --gres=gpu --time=04:00:00 --pty /bin/bash"
      ],
      "execution_count": null,
      "outputs": []
    },
    {
      "cell_type": "markdown",
      "metadata": {
        "id": "caBx_V-64mT_"
      },
      "source": [
        "## Running Jupyter Notebook on HPC\n",
        "1. Open the web browser and go to `https://ood-burst-001.hpc.nyu.edu/`\n",
        "2. Log in and open Jupyter Notebook from the Interactive Apps section.\n",
        "3. Submit your request with the following settings:\n",
        "   - Number of GPUs: 1\n",
        "   - Slurm Account: `ds_ga_1008_002-2025sp`\n",
        "   - Slurm Partition: `c12m85-a100-1` or `n1s8-v100-1`\n",
        "   - Root Directory: `scratch`\n",
        "   - Number of Hours: 1"
      ]
    },
    {
      "cell_type": "markdown",
      "metadata": {
        "id": "jQugczh34mT_"
      },
      "source": [
        "## Setting Up Singularity and Conda\n",
        "1. Get on a GPU node.\n"
      ]
    },
    {
      "cell_type": "code",
      "metadata": {
        "id": "N7Omh2Wg4mT_"
      },
      "source": [
        "srun --account=ds_ga_1008_002-2025sp --partition=n1s8-v100-1 --gres=gpu:v100:1 --time=01:00:00 --pty /bin/bash"
      ],
      "execution_count": null,
      "outputs": []
    },
    {
      "cell_type": "markdown",
      "metadata": {
        "id": "DQynh7TR4mT_"
      },
      "source": [
        "### Navigate to Scratch Directory\n"
      ]
    },
    {
      "cell_type": "code",
      "metadata": {
        "id": "ZKou-zEX4mUA"
      },
      "source": [
        "cd /scratch/[netid]"
      ],
      "execution_count": null,
      "outputs": []
    },
    {
      "cell_type": "markdown",
      "metadata": {
        "id": "JSxM-knN4mUA"
      },
      "source": [
        "### Download Overlay Filesystem\n"
      ]
    },
    {
      "cell_type": "code",
      "metadata": {
        "id": "cOOzPeE74mUA"
      },
      "source": [
        "scp greene-dtn:/scratch/work/public/overlay-fs-ext3/overlay-25GB-500K.ext3.gz ."
      ],
      "execution_count": null,
      "outputs": []
    },
    {
      "cell_type": "markdown",
      "metadata": {
        "id": "_jJQNK_64mUA"
      },
      "source": [
        "### Unzip the Image\n",
        "Takes about 5 minutes to unzip."
      ]
    },
    {
      "cell_type": "code",
      "metadata": {
        "id": "tUIM_kXq4mUA"
      },
      "source": [
        "gunzip -vvv ./overlay-25GB-500K.ext3.gz"
      ],
      "execution_count": null,
      "outputs": []
    },
    {
      "cell_type": "markdown",
      "metadata": {
        "id": "qrm-nWJn4mUA"
      },
      "source": [
        "### Copy the Singularity Image\n"
      ]
    },
    {
      "cell_type": "code",
      "metadata": {
        "id": "saquHIdb4mUA"
      },
      "source": [
        "scp -rp greene-dtn:/scratch/work/public/singularity/ubuntu-20.04.3.sif ."
      ],
      "execution_count": null,
      "outputs": []
    },
    {
      "cell_type": "markdown",
      "metadata": {
        "id": "suUsfxf14mUA"
      },
      "source": [
        "### Start Singularity and Install Conda\n"
      ]
    },
    {
      "cell_type": "code",
      "metadata": {
        "id": "ft_h-wXq4mUA"
      },
      "source": [
        "#Start Singularity:\n",
        "singularity exec --bind /scratch --nv --overlay /scratch/[netid]/overlay-25GB-500K.ext3 /scratch/[netid]/ubuntu-20.04.3.sif /bin/bash"
      ],
      "execution_count": null,
      "outputs": []
    },
    {
      "cell_type": "code",
      "source": [
        "#Inside Singularity:\n",
        "Singularity> cd /ext3/\n",
        "Singularity> wget https://repo.anaconda.com/miniconda/Miniconda3-latest-Linux-x86_64.sh"
      ],
      "metadata": {
        "id": "4FMSvoKzEWru"
      },
      "execution_count": null,
      "outputs": []
    },
    {
      "cell_type": "code",
      "source": [
        "#Install Conda\n",
        "bash ./Miniconda3-latest-Linux-x86_64.sh -b -p /ext3/miniconda3"
      ],
      "metadata": {
        "id": "yf8i1QwCEgGy"
      },
      "execution_count": null,
      "outputs": []
    },
    {
      "cell_type": "markdown",
      "metadata": {
        "id": "ZqnlD53A4mUA"
      },
      "source": [
        "### Set Up Conda Path\n",
        "Add Conda to your PATH for easy access.\n"
      ]
    },
    {
      "cell_type": "code",
      "metadata": {
        "id": "N5y7plmF4mUA"
      },
      "source": [
        "source /ext3/miniconda3/etc/profile.d/conda.sh\n",
        "export PATH=/ext3/miniconda3/bin:$PATH"
      ],
      "execution_count": null,
      "outputs": []
    },
    {
      "cell_type": "markdown",
      "metadata": {
        "id": "8GbRDAVY4mUA"
      },
      "source": [
        "## Installing Python Libraries\n",
        "Create a Conda environment and install necessary libraries."
      ]
    },
    {
      "cell_type": "code",
      "metadata": {
        "id": "4vPllK0i4mUA"
      },
      "source": [
        "conda create -n my_env python==3.9\n",
        "conda activate my_env\n",
        "conda install pytorch torchvision torchaudio pytorch-cuda=11.8 -c pytorch -c nvidia"
      ],
      "execution_count": null,
      "outputs": []
    },
    {
      "cell_type": "markdown",
      "metadata": {
        "id": "TN1HAbRp4mUB"
      },
      "source": [
        "### Exit the Session\n",
        "To exit, press `Ctrl+D` or type `exit`."
      ]
    },
    {
      "cell_type": "markdown",
      "source": [
        "### Reactivating Singularity\n",
        "\n",
        "After the initial setup, everytime you want to start an interactive Singularity session, just do:"
      ],
      "metadata": {
        "id": "rIWCbsO1rSRC"
      }
    },
    {
      "cell_type": "code",
      "source": [
        "ssh greene\n",
        "ssh burst\n",
        "# Request compute (see above)\n",
        "singularity exec --bind /scratch --nv --overlay /scratch/[netid]/overlay-25GB-500K.ext3:rw /scratch/[netid]/cuda11.8.86-cudnn8.7-devel-ubuntu22.04.2.sif /bin/bash -c \"\n",
        "source /ext3/miniconda3/etc/profile.d/conda.sh\n",
        "conda activate my_env"
      ],
      "metadata": {
        "id": "deN72xPysTdn"
      },
      "execution_count": null,
      "outputs": []
    },
    {
      "cell_type": "markdown",
      "metadata": {
        "id": "vxvImY8N4mUA"
      },
      "source": [
        "## Running Batch Jobs\n",
        "Submit a batch job for longer experiments or multiple jobs.\n",
        "### Writing the Batch Script\n"
      ]
    },
    {
      "cell_type": "code",
      "metadata": {
        "id": "y9dV2nzT4mUB"
      },
      "source": [
        "#SBATCH --job-name=job_wgpu\n",
        "#SBATCH --account=ds_ga_1008_002-2025sp\n",
        "#SBATCH --partition=n1s8-v100-1\n",
        "#SBATCH --open-mode=append\n",
        "#SBATCH --output=./%j_%x.out\n",
        "#SBATCH --error=./%j_%x.err\n",
        "#SBATCH --export=ALL\n",
        "#SBATCH --time=00:10:00\n",
        "#SBATCH --gres=gpu:1\n",
        "#SBATCH --requeue\n",
        "\n",
        "singularity exec --bind /scratch --nv --overlay /scratch/[netid]/overlay-25GB-500K.ext3:rw /scratch/[netid]/cuda11.8.86-cudnn8.7-devel-ubuntu22.04.2.sif /bin/bash -c \"\n",
        "source /ext3/miniconda3/etc/profile.d/conda.sh\n",
        "conda activate my_env\n",
        "cd /scratch/[netid]/nlp_tutorial/\n",
        "python ./test_gpu.py\n",
        "\""
      ],
      "execution_count": null,
      "outputs": []
    },
    {
      "cell_type": "markdown",
      "metadata": {
        "id": "wrYWOA8g4mUB"
      },
      "source": [
        "### Submit the Batch Job"
      ]
    },
    {
      "cell_type": "code",
      "metadata": {
        "id": "lpR2buK-4mUB"
      },
      "source": [
        "sbatch gpu_job.slurm"
      ],
      "execution_count": null,
      "outputs": []
    },
    {
      "cell_type": "markdown",
      "metadata": {
        "id": "Nksu9fXI4mUB"
      },
      "source": [
        "### Check Job Status\n",
        "Check your job status in the queue."
      ]
    },
    {
      "cell_type": "code",
      "metadata": {
        "id": "wpEwxyec4mUB"
      },
      "source": [
        "squeue -u [netid]"
      ],
      "execution_count": null,
      "outputs": []
    },
    {
      "cell_type": "markdown",
      "metadata": {
        "id": "l1F2uoix4mUB"
      },
      "source": [
        "### Cancel a Job\n",
        "If you need to cancel a running job."
      ]
    },
    {
      "cell_type": "code",
      "metadata": {
        "id": "_NtPVIiW4mUB"
      },
      "source": [
        "scancel [job_id]"
      ],
      "execution_count": null,
      "outputs": []
    }
  ],
  "metadata": {
    "kernelspec": {
      "display_name": "Python 3",
      "language": "python",
      "name": "python3"
    },
    "colab": {
      "provenance": []
    }
  },
  "nbformat": 4,
  "nbformat_minor": 0
}